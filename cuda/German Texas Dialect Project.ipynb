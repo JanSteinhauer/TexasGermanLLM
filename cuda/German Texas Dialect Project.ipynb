{
 "cells": [
  {
   "cell_type": "code",
   "execution_count": 20,
   "id": "7df18d08",
   "metadata": {},
   "outputs": [
    {
     "name": "stdout",
     "output_type": "stream",
     "text": [
      "cpu\n"
     ]
    }
   ],
   "source": [
    "import torch\n",
    "device = 'cuda' if torch.cuda.is_available() else 'cpu'\n",
    "print(device)"
   ]
  },
  {
   "cell_type": "code",
   "execution_count": 4,
   "id": "270302c0",
   "metadata": {},
   "outputs": [],
   "source": [
    "with open('german_translation.txt', 'r', encoding='utf-8') as f:\n",
    "    text = f.read()\n",
    "chars = sorted(set(text))"
   ]
  },
  {
   "cell_type": "code",
   "execution_count": 10,
   "id": "efbc6b32",
   "metadata": {},
   "outputs": [
    {
     "name": "stdout",
     "output_type": "stream",
     "text": [
      "tensor([21, 12,  9,  1, 45, 33, 29, 36,  1,  5,  0,  5,  0,  1,  1,  1,  0, 21,\n",
      "         9, 16, 12, 10,  2,  1, 34, 25,  4,  0, 12,  7, 11,  1, 32, 25, 26, 38,\n",
      "         1, 42, 29,  0,  6, 15,  1, 15, 39, 41, 31, 29,  1, 32, 25, 26,  1, 33,\n",
      "        27, 32,  1, 13, 50, 32, 29,  1, 31, 29, 37, 39, 36, 35, 29,  1, 37, 39,\n",
      "        36, 35, 29,  4,  1, 20, 16,  8,  1, 28, 29, 38, 38,  1, 32, 25, 26,  1,\n",
      "        33, 27, 32, 42,  1, 13, 25, 36, 26,  1])\n"
     ]
    }
   ],
   "source": [
    "string_to_int = { ch:i for i,ch in enumerate(chars)}\n",
    "int_to_string = { i:ch  for i,ch in enumerate(chars)}\n",
    "encode = lambda s: [string_to_int[c] for c in s]\n",
    "decode = lambda l: ''.join([int_to_string[i] for i in l])\n",
    "\n",
    "data = torch.tensor(encode(text), dtype=torch.long)\n",
    "print(data[:100])"
   ]
  },
  {
   "cell_type": "code",
   "execution_count": 12,
   "id": "1fe782a2",
   "metadata": {},
   "outputs": [],
   "source": [
    "n = int(0.8*len(data))\n",
    "train_data = data[:n]\n",
    "val_data = data[n:]"
   ]
  },
  {
   "cell_type": "code",
   "execution_count": 18,
   "id": "09e863eb",
   "metadata": {},
   "outputs": [
    {
     "name": "stdout",
     "output_type": "stream",
     "text": [
      "when input is tensor([21]) target is tensor(12)\n",
      "when input is tensor([21, 12]) target is tensor(9)\n",
      "when input is tensor([21, 12,  9]) target is tensor(1)\n",
      "when input is tensor([21, 12,  9,  1]) target is tensor(45)\n",
      "when input is tensor([21, 12,  9,  1, 45]) target is tensor(33)\n",
      "when input is tensor([21, 12,  9,  1, 45, 33]) target is tensor(29)\n",
      "when input is tensor([21, 12,  9,  1, 45, 33, 29]) target is tensor(36)\n",
      "when input is tensor([21, 12,  9,  1, 45, 33, 29, 36]) target is tensor(1)\n"
     ]
    }
   ],
   "source": [
    "block_size = 8\n",
    "\n",
    "x = train_data[:block_size]\n",
    "y = train_data[1:block_size+1]\n",
    "\n",
    "for t in range(block_size):\n",
    "    context = x[:t+1]\n",
    "    target = y[t]\n",
    "    print('when input is', context, 'target is', target)"
   ]
  },
  {
   "cell_type": "code",
   "execution_count": null,
   "id": "6965b189",
   "metadata": {},
   "outputs": [],
   "source": []
  }
 ],
 "metadata": {
  "kernelspec": {
   "display_name": "cuda-gpt",
   "language": "python",
   "name": "cude"
  },
  "language_info": {
   "codemirror_mode": {
    "name": "ipython",
    "version": 3
   },
   "file_extension": ".py",
   "mimetype": "text/x-python",
   "name": "python",
   "nbconvert_exporter": "python",
   "pygments_lexer": "ipython3",
   "version": "3.11.5"
  }
 },
 "nbformat": 4,
 "nbformat_minor": 5
}
